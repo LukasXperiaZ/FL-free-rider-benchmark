{
 "cells": [
  {
   "cell_type": "markdown",
   "id": "340ddb18",
   "metadata": {},
   "source": [
    "Notebook to test the models used for FL in a traditional approach to check their performance."
   ]
  },
  {
   "cell_type": "code",
   "execution_count": 3,
   "id": "52dee5dd",
   "metadata": {},
   "outputs": [],
   "source": [
    "import torch\n",
    "import torchvision\n",
    "import torchvision.transforms as transforms\n",
    "import torch.nn as nn\n",
    "import torch.optim as optim\n",
    "import torchvision.models as models\n",
    "from torchvision.models import EfficientNet_B0_Weights\n",
    "from torch.utils.data import DataLoader\n",
    "\n",
    "batch_size = 1024\n",
    "\n",
    "# Define transformations\n",
    "transform = transforms.Compose(\n",
    "    [transforms.ToTensor(),\n",
    "     transforms.Normalize((0.4914, 0.4822, 0.4465), (0.2023, 0.1994, 0.2010))])\n",
    "\n",
    "# Load CIFAR-10 dataset\n",
    "trainset = torchvision.datasets.CIFAR10(root='./data', train=True,\n",
    "                                        download=True, transform=transform)\n",
    "trainloader = DataLoader(trainset, batch_size=batch_size,\n",
    "                                          shuffle=True, num_workers=2)\n",
    "\n",
    "testset = torchvision.datasets.CIFAR10(root='./data', train=False,\n",
    "                                       download=True, transform=transform)\n",
    "testloader = DataLoader(testset, batch_size=batch_size,\n",
    "                                         shuffle=False, num_workers=2)\n",
    "\n",
    "# Define the EfficientNet-B0 model\n",
    "def get_model():\n",
    "    weights = EfficientNet_B0_Weights.IMAGENET1K_V1\n",
    "    model = models.efficientnet_b0(weights=weights)\n",
    "    # Modify classifier head for CIFAR-10 (10 output classes)\n",
    "    num_ftrs = model.classifier[1].in_features\n",
    "    model.classifier[1] = nn.Linear(num_ftrs, 10)\n",
    "    return model\n",
    "\n",
    "model = get_model()\n",
    "\n",
    "# Define loss function and optimizer\n",
    "criterion = nn.CrossEntropyLoss()\n",
    "optimizer = optim.Adam(model.parameters(), lr=0.001)\n",
    "\n",
    "# Set device\n",
    "device = torch.device(\"cuda:0\" if torch.cuda.is_available() else \"cpu\")\n",
    "model.to(device)\n",
    "\n",
    "# Function to evaluate the model on the test set\n",
    "def evaluate(model, testloader, device):\n",
    "    model.eval()\n",
    "    correct = 0\n",
    "    total = 0\n",
    "    with torch.no_grad():\n",
    "        for data in testloader:\n",
    "            images, labels = data[0].to(device), data[1].to(device)\n",
    "            outputs = model(images)\n",
    "            _, predicted = torch.max(outputs.data, 1)\n",
    "            total += labels.size(0)\n",
    "            correct += (predicted == labels).sum().item()\n",
    "    accuracy = 100 * correct / total\n",
    "    return accuracy"
   ]
  },
  {
   "cell_type": "code",
   "execution_count": null,
   "id": "4ae6a5b2",
   "metadata": {},
   "outputs": [],
   "source": [
    "# Train and evaluate the model\n",
    "num_epochs = 20  # You can adjust the number of epochs\n",
    "for epoch in range(num_epochs):\n",
    "    running_loss = 0.0\n",
    "    model.train()\n",
    "    for i, data in enumerate(trainloader, 0):\n",
    "        inputs, labels = data[0].to(device), data[1].to(device)\n",
    "        optimizer.zero_grad()\n",
    "        outputs = model(inputs)\n",
    "        loss = criterion(outputs, labels)\n",
    "        loss.backward()\n",
    "        optimizer.step()\n",
    "        running_loss += loss.item() * inputs.size(0)\n",
    "\n",
    "    epoch_loss = running_loss / len(trainloader.dataset)\n",
    "    accuracy = evaluate(model, testloader, device)\n",
    "    print(f'[{epoch + 1}/{num_epochs}] Test Accuracy: {accuracy:.2f}%,\\t loss: {epoch_loss:.4f}')\n",
    "\n",
    "print('Finished Training')"
   ]
  },
  {
   "cell_type": "code",
   "execution_count": 5,
   "id": "678984de",
   "metadata": {},
   "outputs": [],
   "source": [
    "def print_model_parameters(net):\n",
    "    total_params = sum(p.numel() for p in net.parameters())\n",
    "    trainable_params = sum(p.numel() for p in net.parameters() if p.requires_grad)\n",
    "    print(f\"Total parameters: {total_params:,}\")\n",
    "    print(f\"Trainable parameters: {trainable_params:,}\")"
   ]
  },
  {
   "cell_type": "code",
   "execution_count": null,
   "id": "6e1f0bc0",
   "metadata": {},
   "outputs": [],
   "source": [
    "print_model_parameters(model)"
   ]
  },
  {
   "cell_type": "markdown",
   "id": "2b142e5b",
   "metadata": {},
   "source": [
    "MNIST\n",
    "==="
   ]
  },
  {
   "cell_type": "markdown",
   "id": "b9d11664",
   "metadata": {},
   "source": [
    "from https://medium.com/@deepeshdeepakdd2/lenet-5-implementation-on-mnist-in-pytorch-c6f2ee306e37"
   ]
  },
  {
   "cell_type": "code",
   "execution_count": 8,
   "id": "e4611677",
   "metadata": {},
   "outputs": [],
   "source": [
    "from models.lenet5 import LeNet5"
   ]
  },
  {
   "cell_type": "code",
   "execution_count": 9,
   "id": "7e1e8a8d",
   "metadata": {},
   "outputs": [
    {
     "name": "stdout",
     "output_type": "stream",
     "text": [
      "Total parameters: 61,706\n",
      "Trainable parameters: 61,706\n"
     ]
    }
   ],
   "source": [
    "# Define transformations for MNIST\n",
    "transform = transforms.Compose(\n",
    "    [transforms.ToTensor(),\n",
    "     transforms.Normalize((0.1307,), (0.3081,))]) # Mean and std for MNIST\n",
    "\n",
    "# Load MNIST dataset\n",
    "trainset = torchvision.datasets.MNIST(root='./data', train=True,\n",
    "                                        download=True, transform=transform)\n",
    "trainloader = DataLoader(trainset, batch_size=batch_size,\n",
    "                                          shuffle=True, num_workers=2, drop_last=True)\n",
    "\n",
    "testset = torchvision.datasets.MNIST(root='./data', train=False,\n",
    "                                       download=True, transform=transform)\n",
    "testloader = DataLoader(testset, batch_size=batch_size,\n",
    "                                         shuffle=False, num_workers=2)\n",
    "\n",
    "# Instantiate the LeNet-5 model\n",
    "model = LeNet5()\n",
    "\n",
    "# Define loss function and optimizer\n",
    "criterion = nn.CrossEntropyLoss()\n",
    "optimizer = optim.Adam(model.parameters(), lr=0.001)\n",
    "\n",
    "# Set device\n",
    "device = torch.device(\"cuda:0\" if torch.cuda.is_available() else \"cpu\")\n",
    "model.to(device)\n",
    "print_model_parameters(model)"
   ]
  },
  {
   "cell_type": "code",
   "execution_count": 12,
   "id": "06daac47",
   "metadata": {},
   "outputs": [
    {
     "name": "stdout",
     "output_type": "stream",
     "text": [
      "[1/20] Test Accuracy: 89.41%,\t loss: 1.0143\n",
      "[2/20] Test Accuracy: 93.67%,\t loss: 0.2995\n",
      "[3/20] Test Accuracy: 95.42%,\t loss: 0.1925\n",
      "[4/20] Test Accuracy: 96.71%,\t loss: 0.1353\n",
      "[5/20] Test Accuracy: 97.22%,\t loss: 0.1009\n",
      "[6/20] Test Accuracy: 97.84%,\t loss: 0.0801\n",
      "[7/20] Test Accuracy: 98.18%,\t loss: 0.0660\n",
      "[8/20] Test Accuracy: 98.35%,\t loss: 0.0557\n",
      "[9/20] Test Accuracy: 98.35%,\t loss: 0.0490\n",
      "[10/20] Test Accuracy: 98.49%,\t loss: 0.0431\n",
      "[11/20] Test Accuracy: 98.64%,\t loss: 0.0386\n",
      "[12/20] Test Accuracy: 98.62%,\t loss: 0.0349\n",
      "[13/20] Test Accuracy: 98.68%,\t loss: 0.0310\n",
      "[14/20] Test Accuracy: 98.82%,\t loss: 0.0287\n",
      "[15/20] Test Accuracy: 98.75%,\t loss: 0.0263\n",
      "[16/20] Test Accuracy: 98.87%,\t loss: 0.0237\n",
      "[17/20] Test Accuracy: 98.89%,\t loss: 0.0215\n",
      "[18/20] Test Accuracy: 98.88%,\t loss: 0.0188\n",
      "[19/20] Test Accuracy: 98.98%,\t loss: 0.0184\n",
      "[20/20] Test Accuracy: 98.96%,\t loss: 0.0168\n",
      "Finished Training\n"
     ]
    }
   ],
   "source": [
    "# Train and evaluate the model\n",
    "num_epochs = 20  # You can adjust the number of epochs\n",
    "for epoch in range(num_epochs):\n",
    "    running_loss = 0.0\n",
    "    model.train()\n",
    "    for i, data in enumerate(trainloader, 0):\n",
    "        inputs, labels = data[0].to(device), data[1].to(device)\n",
    "        optimizer.zero_grad()\n",
    "        outputs = model(inputs)\n",
    "        loss = criterion(outputs, labels)\n",
    "        loss.backward()\n",
    "        optimizer.step()\n",
    "        running_loss += loss.item() * inputs.size(0)\n",
    "\n",
    "    epoch_loss = running_loss / len(trainloader.dataset)\n",
    "    accuracy = evaluate(model, testloader, device)\n",
    "    print(f'[{epoch + 1}/{num_epochs}] Test Accuracy: {accuracy:.2f}%,\\t loss: {epoch_loss:.4f}')\n",
    "\n",
    "print('Finished Training')"
   ]
  }
 ],
 "metadata": {
  "kernelspec": {
   "display_name": ".venv",
   "language": "python",
   "name": "python3"
  },
  "language_info": {
   "codemirror_mode": {
    "name": "ipython",
    "version": 3
   },
   "file_extension": ".py",
   "mimetype": "text/x-python",
   "name": "python",
   "nbconvert_exporter": "python",
   "pygments_lexer": "ipython3",
   "version": "3.10.12"
  }
 },
 "nbformat": 4,
 "nbformat_minor": 5
}
