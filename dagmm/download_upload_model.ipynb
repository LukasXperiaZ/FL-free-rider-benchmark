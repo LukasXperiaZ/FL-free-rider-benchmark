{
 "cells": [
  {
   "cell_type": "code",
   "execution_count": null,
   "id": "d0f00160",
   "metadata": {},
   "outputs": [],
   "source": [
    "import os\n",
    "repo_id = \"LukasXperiaZ/dagmm_free_rider\"\n",
    "model_path = \"./dagmm_model.pt\"\n",
    "filename = os.path.basename(model_path)"
   ]
  },
  {
   "cell_type": "markdown",
   "id": "15f85a2d",
   "metadata": {},
   "source": [
    "Upload Script\n",
    "---"
   ]
  },
  {
   "cell_type": "code",
   "execution_count": null,
   "id": "109674d6",
   "metadata": {},
   "outputs": [],
   "source": [
    "from huggingface_hub import HfApi\n",
    "\n",
    "api = HfApi()\n",
    "\n",
    "try:\n",
    "    api.create_repo(repo_id, private=False, exist_ok=True) # Create the repo if it doesn't exist\n",
    "    api.upload_file(\n",
    "        path_or_fileobj=model_path,\n",
    "        path_in_repo=filename,\n",
    "        repo_id=repo_id,\n",
    "    )\n",
    "    print(f\"Model uploaded successfully to {repo_id}/{filename}\")\n",
    "except Exception as e:\n",
    "    print(f\"Error uploading model: {e}\")"
   ]
  },
  {
   "cell_type": "markdown",
   "id": "9f95777b",
   "metadata": {},
   "source": [
    "Download Script\n",
    "---"
   ]
  },
  {
   "cell_type": "code",
   "execution_count": null,
   "id": "cb4236e8",
   "metadata": {},
   "outputs": [],
   "source": [
    "from huggingface_hub import hf_hub_download\n",
    "import yaml\n",
    "\n",
    "try:\n",
    "    downloaded_model_path = hf_hub_download(repo_id=repo_id, filename=filename)\n",
    "    print(f\"Model downloaded successfully to {downloaded_model_path}\")\n",
    "\n",
    "    with open(\"model_path.yaml\", \"w\") as f:\n",
    "        yaml.dump({\"model_path\": downloaded_model_path}, f)\n",
    "    # You can now load your model from this path\n",
    "except Exception as e:\n",
    "    print(f\"Error downloading model: {e}\")"
   ]
  }
 ],
 "metadata": {
  "kernelspec": {
   "display_name": ".venv",
   "language": "python",
   "name": "python3"
  },
  "language_info": {
   "codemirror_mode": {
    "name": "ipython",
    "version": 3
   },
   "file_extension": ".py",
   "mimetype": "text/x-python",
   "name": "python",
   "nbconvert_exporter": "python",
   "pygments_lexer": "ipython3",
   "version": "3.10.12"
  }
 },
 "nbformat": 4,
 "nbformat_minor": 5
}
